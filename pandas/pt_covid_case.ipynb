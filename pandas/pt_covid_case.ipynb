{
 "cells": [
  {
   "cell_type": "code",
   "execution_count": 1,
   "id": "57d372f8",
   "metadata": {},
   "outputs": [],
   "source": [
    "import pandas as pd"
   ]
  },
  {
   "cell_type": "code",
   "execution_count": 4,
   "id": "30dd4e3a",
   "metadata": {},
   "outputs": [
    {
     "data": {
      "text/html": [
       "<div>\n",
       "<style scoped>\n",
       "    .dataframe tbody tr th:only-of-type {\n",
       "        vertical-align: middle;\n",
       "    }\n",
       "\n",
       "    .dataframe tbody tr th {\n",
       "        vertical-align: top;\n",
       "    }\n",
       "\n",
       "    .dataframe thead th {\n",
       "        text-align: right;\n",
       "    }\n",
       "</style>\n",
       "<table border=\"1\" class=\"dataframe\">\n",
       "  <thead>\n",
       "    <tr style=\"text-align: right;\">\n",
       "      <th></th>\n",
       "      <th>No.</th>\n",
       "      <th>announce_date</th>\n",
       "      <th>Notified date</th>\n",
       "      <th>sex</th>\n",
       "      <th>age</th>\n",
       "      <th>Unit</th>\n",
       "      <th>nationality</th>\n",
       "      <th>province_of_isolation</th>\n",
       "      <th>risk</th>\n",
       "      <th>province_of_onset</th>\n",
       "      <th>district_of_onset</th>\n",
       "    </tr>\n",
       "  </thead>\n",
       "  <tbody>\n",
       "    <tr>\n",
       "      <th>0</th>\n",
       "      <td>816990</td>\n",
       "      <td>12/8/2021</td>\n",
       "      <td>11/8/2021</td>\n",
       "      <td>ชาย</td>\n",
       "      <td>7.0</td>\n",
       "      <td>ปี</td>\n",
       "      <td>Thailand</td>\n",
       "      <td>เชียงราย</td>\n",
       "      <td>อื่นๆ</td>\n",
       "      <td>NaN</td>\n",
       "      <td>NaN</td>\n",
       "    </tr>\n",
       "    <tr>\n",
       "      <th>1</th>\n",
       "      <td>816991</td>\n",
       "      <td>12/8/2021</td>\n",
       "      <td>11/8/2021</td>\n",
       "      <td>ชาย</td>\n",
       "      <td>1.0</td>\n",
       "      <td>ปี</td>\n",
       "      <td>Thailand</td>\n",
       "      <td>เชียงราย</td>\n",
       "      <td>อื่นๆ</td>\n",
       "      <td>NaN</td>\n",
       "      <td>NaN</td>\n",
       "    </tr>\n",
       "    <tr>\n",
       "      <th>2</th>\n",
       "      <td>816992</td>\n",
       "      <td>12/8/2021</td>\n",
       "      <td>11/8/2021</td>\n",
       "      <td>ชาย</td>\n",
       "      <td>35.0</td>\n",
       "      <td>ปี</td>\n",
       "      <td>Thailand</td>\n",
       "      <td>เชียงราย</td>\n",
       "      <td>อื่นๆ</td>\n",
       "      <td>NaN</td>\n",
       "      <td>NaN</td>\n",
       "    </tr>\n",
       "    <tr>\n",
       "      <th>3</th>\n",
       "      <td>816993</td>\n",
       "      <td>12/8/2021</td>\n",
       "      <td>11/8/2021</td>\n",
       "      <td>หญิง</td>\n",
       "      <td>33.0</td>\n",
       "      <td>ปี</td>\n",
       "      <td>Thailand</td>\n",
       "      <td>เชียงราย</td>\n",
       "      <td>อื่นๆ</td>\n",
       "      <td>NaN</td>\n",
       "      <td>NaN</td>\n",
       "    </tr>\n",
       "    <tr>\n",
       "      <th>4</th>\n",
       "      <td>816994</td>\n",
       "      <td>12/8/2021</td>\n",
       "      <td>11/8/2021</td>\n",
       "      <td>หญิง</td>\n",
       "      <td>14.0</td>\n",
       "      <td>ปี</td>\n",
       "      <td>Thailand</td>\n",
       "      <td>เชียงราย</td>\n",
       "      <td>สัมผัสใกล้ชิดกับผู้ป่วยยืนยันรายก่อนหน้านี้</td>\n",
       "      <td>NaN</td>\n",
       "      <td>NaN</td>\n",
       "    </tr>\n",
       "    <tr>\n",
       "      <th>...</th>\n",
       "      <td>...</td>\n",
       "      <td>...</td>\n",
       "      <td>...</td>\n",
       "      <td>...</td>\n",
       "      <td>...</td>\n",
       "      <td>...</td>\n",
       "      <td>...</td>\n",
       "      <td>...</td>\n",
       "      <td>...</td>\n",
       "      <td>...</td>\n",
       "      <td>...</td>\n",
       "    </tr>\n",
       "    <tr>\n",
       "      <th>213287</th>\n",
       "      <td>1030277</td>\n",
       "      <td>21/8/2021</td>\n",
       "      <td>20/8/2021</td>\n",
       "      <td>ชาย</td>\n",
       "      <td>47.0</td>\n",
       "      <td>ปี</td>\n",
       "      <td>Thailand</td>\n",
       "      <td>กรุงเทพมหานคร</td>\n",
       "      <td>ทัณฑสถาน/เรือนจำ</td>\n",
       "      <td>NaN</td>\n",
       "      <td>NaN</td>\n",
       "    </tr>\n",
       "    <tr>\n",
       "      <th>213288</th>\n",
       "      <td>1030278</td>\n",
       "      <td>21/8/2021</td>\n",
       "      <td>20/8/2021</td>\n",
       "      <td>ชาย</td>\n",
       "      <td>79.0</td>\n",
       "      <td>ปี</td>\n",
       "      <td>Thailand</td>\n",
       "      <td>กรุงเทพมหานคร</td>\n",
       "      <td>ทัณฑสถาน/เรือนจำ</td>\n",
       "      <td>NaN</td>\n",
       "      <td>NaN</td>\n",
       "    </tr>\n",
       "    <tr>\n",
       "      <th>213289</th>\n",
       "      <td>1030279</td>\n",
       "      <td>21/8/2021</td>\n",
       "      <td>20/8/2021</td>\n",
       "      <td>ชาย</td>\n",
       "      <td>29.0</td>\n",
       "      <td>ปี</td>\n",
       "      <td>Thailand</td>\n",
       "      <td>กรุงเทพมหานคร</td>\n",
       "      <td>ทัณฑสถาน/เรือนจำ</td>\n",
       "      <td>NaN</td>\n",
       "      <td>NaN</td>\n",
       "    </tr>\n",
       "    <tr>\n",
       "      <th>213290</th>\n",
       "      <td>1030280</td>\n",
       "      <td>21/8/2021</td>\n",
       "      <td>20/8/2021</td>\n",
       "      <td>ชาย</td>\n",
       "      <td>31.0</td>\n",
       "      <td>ปี</td>\n",
       "      <td>Thailand</td>\n",
       "      <td>กรุงเทพมหานคร</td>\n",
       "      <td>ทัณฑสถาน/เรือนจำ</td>\n",
       "      <td>NaN</td>\n",
       "      <td>NaN</td>\n",
       "    </tr>\n",
       "    <tr>\n",
       "      <th>213291</th>\n",
       "      <td>1030281</td>\n",
       "      <td>21/8/2021</td>\n",
       "      <td>20/8/2021</td>\n",
       "      <td>ชาย</td>\n",
       "      <td>46.0</td>\n",
       "      <td>ปี</td>\n",
       "      <td>Thailand</td>\n",
       "      <td>ชลบุรี</td>\n",
       "      <td>ทัณฑสถาน/เรือนจำ</td>\n",
       "      <td>NaN</td>\n",
       "      <td>NaN</td>\n",
       "    </tr>\n",
       "  </tbody>\n",
       "</table>\n",
       "<p>213292 rows × 11 columns</p>\n",
       "</div>"
      ],
      "text/plain": [
       "            No. announce_date Notified date   sex   age Unit nationality  \\\n",
       "0        816990     12/8/2021     11/8/2021   ชาย   7.0   ปี    Thailand   \n",
       "1        816991     12/8/2021     11/8/2021   ชาย   1.0   ปี    Thailand   \n",
       "2        816992     12/8/2021     11/8/2021   ชาย  35.0   ปี    Thailand   \n",
       "3        816993     12/8/2021     11/8/2021  หญิง  33.0   ปี    Thailand   \n",
       "4        816994     12/8/2021     11/8/2021  หญิง  14.0   ปี    Thailand   \n",
       "...         ...           ...           ...   ...   ...  ...         ...   \n",
       "213287  1030277     21/8/2021     20/8/2021   ชาย  47.0   ปี    Thailand   \n",
       "213288  1030278     21/8/2021     20/8/2021   ชาย  79.0   ปี    Thailand   \n",
       "213289  1030279     21/8/2021     20/8/2021   ชาย  29.0   ปี    Thailand   \n",
       "213290  1030280     21/8/2021     20/8/2021   ชาย  31.0   ปี    Thailand   \n",
       "213291  1030281     21/8/2021     20/8/2021   ชาย  46.0   ปี    Thailand   \n",
       "\n",
       "       province_of_isolation                                         risk  \\\n",
       "0                   เชียงราย                                        อื่นๆ   \n",
       "1                   เชียงราย                                        อื่นๆ   \n",
       "2                   เชียงราย                                        อื่นๆ   \n",
       "3                   เชียงราย                                        อื่นๆ   \n",
       "4                   เชียงราย  สัมผัสใกล้ชิดกับผู้ป่วยยืนยันรายก่อนหน้านี้   \n",
       "...                      ...                                          ...   \n",
       "213287         กรุงเทพมหานคร                             ทัณฑสถาน/เรือนจำ   \n",
       "213288         กรุงเทพมหานคร                             ทัณฑสถาน/เรือนจำ   \n",
       "213289         กรุงเทพมหานคร                             ทัณฑสถาน/เรือนจำ   \n",
       "213290         กรุงเทพมหานคร                             ทัณฑสถาน/เรือนจำ   \n",
       "213291                ชลบุรี                             ทัณฑสถาน/เรือนจำ   \n",
       "\n",
       "       province_of_onset district_of_onset  \n",
       "0                    NaN               NaN  \n",
       "1                    NaN               NaN  \n",
       "2                    NaN               NaN  \n",
       "3                    NaN               NaN  \n",
       "4                    NaN               NaN  \n",
       "...                  ...               ...  \n",
       "213287               NaN               NaN  \n",
       "213288               NaN               NaN  \n",
       "213289               NaN               NaN  \n",
       "213290               NaN               NaN  \n",
       "213291               NaN               NaN  \n",
       "\n",
       "[213292 rows x 11 columns]"
      ]
     },
     "execution_count": 4,
     "metadata": {},
     "output_type": "execute_result"
    }
   ],
   "source": [
    "pop = pd.read_csv(\"covid_case.csv\", encoding=\"utf-8\")\n",
    "pop"
   ]
  },
  {
   "cell_type": "code",
   "execution_count": 5,
   "id": "df8cb70b",
   "metadata": {},
   "outputs": [
    {
     "data": {
      "text/plain": [
       "risk\n",
       "สัมผัสใกล้ชิดกับผู้ป่วยยืนยันรายก่อนหน้านี้                                       88413\n",
       "อื่นๆ                                                                             52893\n",
       "การค้นหาผู้ป่วยเชิงรุกและค้นหาผู้ติดเชื้อในชุมชน                                  29868\n",
       "อยู่ระหว่างการสอบสวน                                                              25537\n",
       "ระบุไม่ได้                                                                         5531\n",
       "สถานที่ทำงาน                                                                       3918\n",
       "ทัณฑสถาน/เรือนจำ                                                                   3164\n",
       "ไปสถานที่ชุมชน เช่น ตลาดนัด สถานที่ท่องเที่ยว                                      2191\n",
       "บุคลากรด้านการแพทย์และสาธารณสุข                                                     897\n",
       "อาชีพเสี่ยง เช่น ทำงานในสถานที่แออัด หรือทำงานใกล้ชิดสัมผัสชาวต่างชาติ เป็นต้น      373\n",
       "ตรวจก่อนทำหัตถการ                                                                   238\n",
       "ปอดอักเสบ (Pneumonia)                                                               127\n",
       "State Quarantine                                                                     60\n",
       "ไปสถานที่แออัด เช่น งานแฟร์ คอนเสิร์ต                                                34\n",
       "ผู้ที่เดินทางมาจากต่างประเทศ และเข้า AQ                                              17\n",
       "Sandbox                                                                              12\n",
       "คนต่างชาติเดินทางมาจากต่างประเทศ                                                      9\n",
       "คนไทยเดินทางกลับจากต่างประเทศ                                                         8\n",
       "Samui plus                                                                            1\n",
       "สถานบันเทิง                                                                           1\n",
       "Name: count, dtype: int64"
      ]
     },
     "execution_count": 5,
     "metadata": {},
     "output_type": "execute_result"
    }
   ],
   "source": [
    "pop[\"risk\"].value_counts() #สาเหตุในการติดเชื้อโควิด"
   ]
  },
  {
   "cell_type": "code",
   "execution_count": 6,
   "id": "ad56f31f",
   "metadata": {},
   "outputs": [
    {
     "data": {
      "text/plain": [
       "count    198386.000000\n",
       "mean         36.174134\n",
       "std          17.732531\n",
       "min           1.000000\n",
       "25%          24.000000\n",
       "50%          35.000000\n",
       "75%          48.000000\n",
       "max         119.000000\n",
       "Name: age, dtype: float64"
      ]
     },
     "execution_count": 6,
     "metadata": {},
     "output_type": "execute_result"
    }
   ],
   "source": [
    "pop['age'].describe() #สถิติอายุผู้ติดเชื้อโควิด"
   ]
  },
  {
   "cell_type": "code",
   "execution_count": 7,
   "id": "50d0eda6",
   "metadata": {},
   "outputs": [
    {
     "data": {
      "text/plain": [
       "<Axes: >"
      ]
     },
     "execution_count": 7,
     "metadata": {},
     "output_type": "execute_result"
    },
    {
     "data": {
      "image/png": "[encoded data removed]",
      "text/plain": [
       "<Figure size 640x480 with 1 Axes>"
      ]
     },
     "metadata": {},
     "output_type": "display_data"
    }
   ],
   "source": [
    "pop['age'].hist() #กราฟช่วงอายุที่ติด"
   ]
  },
  {
   "cell_type": "code",
   "execution_count": 50,
   "id": "e72424f8",
   "metadata": {},
   "outputs": [
    {
     "data": {
      "text/plain": [
       "<Axes: xlabel='sex'>"
      ]
     },
     "execution_count": 50,
     "metadata": {},
     "output_type": "execute_result"
    },
    {
     "name": "stderr",
     "output_type": "stream",
     "text": [
      "C:\\Users\\ComDee\\AppData\\Roaming\\Python\\Python312\\site-packages\\IPython\\core\\events.py:82: UserWarning: Glyph 3627 (\\N{THAI CHARACTER HO HIP}) missing from font(s) DejaVu Sans.\n",
      "  func(*args, **kwargs)\n",
      "C:\\Users\\ComDee\\AppData\\Roaming\\Python\\Python312\\site-packages\\IPython\\core\\events.py:82: UserWarning: Glyph 3597 (\\N{THAI CHARACTER YO YING}) missing from font(s) DejaVu Sans.\n",
      "  func(*args, **kwargs)\n",
      "C:\\Users\\ComDee\\AppData\\Roaming\\Python\\Python312\\site-packages\\IPython\\core\\events.py:82: UserWarning: Glyph 3636 (\\N{THAI CHARACTER SARA I}) missing from font(s) DejaVu Sans.\n",
      "  func(*args, **kwargs)\n",
      "C:\\Users\\ComDee\\AppData\\Roaming\\Python\\Python312\\site-packages\\IPython\\core\\events.py:82: UserWarning: Glyph 3591 (\\N{THAI CHARACTER NGO NGU}) missing from font(s) DejaVu Sans.\n",
      "  func(*args, **kwargs)\n",
      "C:\\Users\\ComDee\\AppData\\Roaming\\Python\\Python312\\site-packages\\IPython\\core\\pylabtools.py:170: UserWarning: Glyph 3627 (\\N{THAI CHARACTER HO HIP}) missing from font(s) DejaVu Sans.\n",
      "  fig.canvas.print_figure(bytes_io, **kw)\n",
      "C:\\Users\\ComDee\\AppData\\Roaming\\Python\\Python312\\site-packages\\IPython\\core\\pylabtools.py:170: UserWarning: Glyph 3597 (\\N{THAI CHARACTER YO YING}) missing from font(s) DejaVu Sans.\n",
      "  fig.canvas.print_figure(bytes_io, **kw)\n",
      "C:\\Users\\ComDee\\AppData\\Roaming\\Python\\Python312\\site-packages\\IPython\\core\\pylabtools.py:170: UserWarning: Glyph 3636 (\\N{THAI CHARACTER SARA I}) missing from font(s) DejaVu Sans.\n",
      "  fig.canvas.print_figure(bytes_io, **kw)\n",
      "C:\\Users\\ComDee\\AppData\\Roaming\\Python\\Python312\\site-packages\\IPython\\core\\pylabtools.py:170: UserWarning: Glyph 3591 (\\N{THAI CHARACTER NGO NGU}) missing from font(s) DejaVu Sans.\n",
      "  fig.canvas.print_figure(bytes_io, **kw)\n"
     ]
    },
    {
     "data": {
      "image/png": "[encoded data removed]",
      "text/plain": [
       "<Figure size 640x480 with 1 Axes>"
      ]
     },
     "metadata": {},
     "output_type": "display_data"
    }
   ],
   "source": [
    "#จังหวัดกาญจนบุรี วันที่ 12/8/2021 มีผู้ติดเชื้อแยกตามเพศกี่ตน\n",
    "today = pop[(pop['province_of_isolation'] == 'กาญจนบุรี') & (pop['announce_date'] == '12/8/2021')]\n",
    "today['sex'].value_counts().plot()"
   ]
  },
  {
   "cell_type": "code",
   "execution_count": null,
   "id": "48c5da1c",
   "metadata": {},
   "outputs": [
    {
     "data": {
      "text/plain": [
       "sex\n",
       "หญิง    130\n",
       "ชาย     112\n",
       "Name: count, dtype: int64"
      ]
     },
     "execution_count": 49,
     "metadata": {},
     "output_type": "execute_result"
    }
   ],
   "source": [
    "#แยกเพศคนที่ติดโควิดจากสถานที่ทำงานในกรุงเทพ\n",
    "patient = pop[(pop['province_of_isolation']=='กรุงเทพมหานคร') & (pop['age']>30) & pop['risk'] == 'สถานที่ทำงาน']\n",
    "patient['sex'].value_counts()"
   ]
  },
  {
   "cell_type": "code",
   "execution_count": null,
   "id": "20ad2c5a",
   "metadata": {},
   "outputs": [
    {
     "data": {
      "text/plain": [
       "<Axes: xlabel='sex'>"
      ]
     },
     "execution_count": 57,
     "metadata": {},
     "output_type": "execute_result"
    },
    {
     "name": "stderr",
     "output_type": "stream",
     "text": [
      "C:\\Users\\ComDee\\AppData\\Roaming\\Python\\Python312\\site-packages\\IPython\\core\\events.py:82: UserWarning: Glyph 3594 (\\N{THAI CHARACTER CHO CHANG}) missing from font(s) DejaVu Sans.\n",
      "  func(*args, **kwargs)\n",
      "C:\\Users\\ComDee\\AppData\\Roaming\\Python\\Python312\\site-packages\\IPython\\core\\events.py:82: UserWarning: Glyph 3634 (\\N{THAI CHARACTER SARA AA}) missing from font(s) DejaVu Sans.\n",
      "  func(*args, **kwargs)\n",
      "C:\\Users\\ComDee\\AppData\\Roaming\\Python\\Python312\\site-packages\\IPython\\core\\events.py:82: UserWarning: Glyph 3618 (\\N{THAI CHARACTER YO YAK}) missing from font(s) DejaVu Sans.\n",
      "  func(*args, **kwargs)\n",
      "C:\\Users\\ComDee\\AppData\\Roaming\\Python\\Python312\\site-packages\\IPython\\core\\events.py:82: UserWarning: Glyph 3627 (\\N{THAI CHARACTER HO HIP}) missing from font(s) DejaVu Sans.\n",
      "  func(*args, **kwargs)\n",
      "C:\\Users\\ComDee\\AppData\\Roaming\\Python\\Python312\\site-packages\\IPython\\core\\events.py:82: UserWarning: Glyph 3597 (\\N{THAI CHARACTER YO YING}) missing from font(s) DejaVu Sans.\n",
      "  func(*args, **kwargs)\n",
      "C:\\Users\\ComDee\\AppData\\Roaming\\Python\\Python312\\site-packages\\IPython\\core\\events.py:82: UserWarning: Glyph 3636 (\\N{THAI CHARACTER SARA I}) missing from font(s) DejaVu Sans.\n",
      "  func(*args, **kwargs)\n",
      "C:\\Users\\ComDee\\AppData\\Roaming\\Python\\Python312\\site-packages\\IPython\\core\\events.py:82: UserWarning: Glyph 3591 (\\N{THAI CHARACTER NGO NGU}) missing from font(s) DejaVu Sans.\n",
      "  func(*args, **kwargs)\n",
      "C:\\Users\\ComDee\\AppData\\Roaming\\Python\\Python312\\site-packages\\IPython\\core\\pylabtools.py:170: UserWarning: Glyph 3594 (\\N{THAI CHARACTER CHO CHANG}) missing from font(s) DejaVu Sans.\n",
      "  fig.canvas.print_figure(bytes_io, **kw)\n",
      "C:\\Users\\ComDee\\AppData\\Roaming\\Python\\Python312\\site-packages\\IPython\\core\\pylabtools.py:170: UserWarning: Glyph 3634 (\\N{THAI CHARACTER SARA AA}) missing from font(s) DejaVu Sans.\n",
      "  fig.canvas.print_figure(bytes_io, **kw)\n",
      "C:\\Users\\ComDee\\AppData\\Roaming\\Python\\Python312\\site-packages\\IPython\\core\\pylabtools.py:170: UserWarning: Glyph 3618 (\\N{THAI CHARACTER YO YAK}) missing from font(s) DejaVu Sans.\n",
      "  fig.canvas.print_figure(bytes_io, **kw)\n",
      "C:\\Users\\ComDee\\AppData\\Roaming\\Python\\Python312\\site-packages\\IPython\\core\\pylabtools.py:170: UserWarning: Glyph 3627 (\\N{THAI CHARACTER HO HIP}) missing from font(s) DejaVu Sans.\n",
      "  fig.canvas.print_figure(bytes_io, **kw)\n",
      "C:\\Users\\ComDee\\AppData\\Roaming\\Python\\Python312\\site-packages\\IPython\\core\\pylabtools.py:170: UserWarning: Glyph 3597 (\\N{THAI CHARACTER YO YING}) missing from font(s) DejaVu Sans.\n",
      "  fig.canvas.print_figure(bytes_io, **kw)\n",
      "C:\\Users\\ComDee\\AppData\\Roaming\\Python\\Python312\\site-packages\\IPython\\core\\pylabtools.py:170: UserWarning: Glyph 3636 (\\N{THAI CHARACTER SARA I}) missing from font(s) DejaVu Sans.\n",
      "  fig.canvas.print_figure(bytes_io, **kw)\n",
      "C:\\Users\\ComDee\\AppData\\Roaming\\Python\\Python312\\site-packages\\IPython\\core\\pylabtools.py:170: UserWarning: Glyph 3591 (\\N{THAI CHARACTER NGO NGU}) missing from font(s) DejaVu Sans.\n",
      "  fig.canvas.print_figure(bytes_io, **kw)\n"
     ]
    },
    {
     "data": {
      "image/png": "[encoded data removed]",
      "text/plain": [
       "<Figure size 640x480 with 1 Axes>"
      ]
     },
     "metadata": {},
     "output_type": "display_data"
    }
   ],
   "source": [
    "patient.groupby('sex')['No.'].count().plot.bar()  #วาดกราฟแท่ง"
   ]
  },
  {
   "cell_type": "code",
   "execution_count": null,
   "id": "6a170631",
   "metadata": {},
   "outputs": [
    {
     "name": "stdout",
     "output_type": "stream",
     "text": [
      "<class 'pandas.core.frame.DataFrame'>\n",
      "RangeIndex: 213292 entries, 0 to 213291\n",
      "Data columns (total 11 columns):\n",
      " #   Column                 Non-Null Count   Dtype  \n",
      "---  ------                 --------------   -----  \n",
      " 0   No.                    213292 non-null  int64  \n",
      " 1   announce_date          213292 non-null  object \n",
      " 2   Notified date          213292 non-null  object \n",
      " 3   sex                    204047 non-null  object \n",
      " 4   age                    198386 non-null  float64\n",
      " 5   Unit                   198386 non-null  object \n",
      " 6   nationality            198511 non-null  object \n",
      " 7   province_of_isolation  213292 non-null  object \n",
      " 8   risk                   213292 non-null  object \n",
      " 9   province_of_onset      185670 non-null  object \n",
      " 10  district_of_onset      174040 non-null  object \n",
      "dtypes: float64(1), int64(1), object(9)\n",
      "memory usage: 17.9+ MB\n"
     ]
    }
   ],
   "source": []
  },
  {
   "cell_type": "code",
   "execution_count": null,
   "id": "55cc7080",
   "metadata": {},
   "outputs": [],
   "source": []
  }
 ],
 "metadata": {
  "kernelspec": {
   "display_name": "base",
   "language": "python",
   "name": "python3"
  },
  "language_info": {
   "codemirror_mode": {
    "name": "ipython",
    "version": 3
   },
   "file_extension": ".py",
   "mimetype": "text/x-python",
   "name": "python",
   "nbconvert_exporter": "python",
   "pygments_lexer": "ipython3",
   "version": "3.12.7"
  }
 },
 "nbformat": 4,
 "nbformat_minor": 5
}
